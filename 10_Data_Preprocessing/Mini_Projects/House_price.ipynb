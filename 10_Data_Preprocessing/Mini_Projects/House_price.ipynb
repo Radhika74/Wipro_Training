{
 "cells": [
  {
   "cell_type": "markdown",
   "id": "9c484257",
   "metadata": {},
   "source": [
    "'''\n",
    "Use-Case: House Price Prediction\n",
    "Dataset: melb_data.csv\n",
    "\n",
    "Perform the following tasks:\n",
    "Load the data in dataframe (Pandas)\n",
    "Handle inappropriate data\n",
    "Handle the missing data\n",
    "Handle the categorical data\n",
    "'''"
   ]
  },
  {
   "cell_type": "code",
   "execution_count": 4,
   "id": "e6fbd218",
   "metadata": {},
   "outputs": [
    {
     "name": "stdout",
     "output_type": "stream",
     "text": [
      "   Unnamed: 0  Rooms      Price  Distance  Postcode  Bedroom2  Bathroom  Car  \\\n",
      "0           1      2  1480000.0       2.5    3067.0       2.0       1.0  1.0   \n",
      "1           2      2  1035000.0       2.5    3067.0       2.0       1.0  0.0   \n",
      "2           4      3  1465000.0       2.5    3067.0       3.0       2.0  0.0   \n",
      "3           5      3   850000.0       2.5    3067.0       3.0       2.0  1.0   \n",
      "4           6      4  1600000.0       2.5    3067.0       3.0       1.0  2.0   \n",
      "\n",
      "   Landsize  Lattitude  ...  CouncilArea_Wyndham  CouncilArea_Yarra  \\\n",
      "0     202.0   -37.7996  ...                False               True   \n",
      "1     156.0   -37.8079  ...                False               True   \n",
      "2     134.0   -37.8093  ...                False               True   \n",
      "3      94.0   -37.7969  ...                False               True   \n",
      "4     120.0   -37.8072  ...                False               True   \n",
      "\n",
      "   CouncilArea_Yarra Ranges  Regionname_Eastern Victoria  \\\n",
      "0                     False                        False   \n",
      "1                     False                        False   \n",
      "2                     False                        False   \n",
      "3                     False                        False   \n",
      "4                     False                        False   \n",
      "\n",
      "   Regionname_Northern Metropolitan  Regionname_Northern Victoria  \\\n",
      "0                              True                         False   \n",
      "1                              True                         False   \n",
      "2                              True                         False   \n",
      "3                              True                         False   \n",
      "4                              True                         False   \n",
      "\n",
      "   Regionname_South-Eastern Metropolitan  Regionname_Southern Metropolitan  \\\n",
      "0                                  False                             False   \n",
      "1                                  False                             False   \n",
      "2                                  False                             False   \n",
      "3                                  False                             False   \n",
      "4                                  False                             False   \n",
      "\n",
      "   Regionname_Western Metropolitan  Regionname_Western Victoria  \n",
      "0                            False                        False  \n",
      "1                            False                        False  \n",
      "2                            False                        False  \n",
      "3                            False                        False  \n",
      "4                            False                        False  \n",
      "\n",
      "[5 rows x 443 columns]\n",
      "Unnamed: 0                                 int64\n",
      "Rooms                                      int64\n",
      "Price                                    float64\n",
      "Distance                                 float64\n",
      "Postcode                                 float64\n",
      "                                          ...   \n",
      "Regionname_Northern Victoria                bool\n",
      "Regionname_South-Eastern Metropolitan       bool\n",
      "Regionname_Southern Metropolitan            bool\n",
      "Regionname_Western Metropolitan             bool\n",
      "Regionname_Western Victoria                 bool\n",
      "Length: 443, dtype: object\n"
     ]
    }
   ],
   "source": [
    "import pandas as pd\n",
    "\n",
    "data = pd.read_csv(\"melb_data.csv\")\n",
    "\n",
    "for col in ['Address', 'SellerG']:\n",
    "    if col in data.columns:\n",
    "        data.drop(col, axis=1, inplace=True)\n",
    "\n",
    "data = data.dropna(axis=1, thresh=len(data)*0.5)\n",
    "\n",
    "for col in data.columns:\n",
    "    if data[col].dtype == 'object':\n",
    "        data[col] = data[col].fillna(data[col].mode()[0])\n",
    "    else:\n",
    "        data[col] = data[col].fillna(data[col].median())\n",
    "\n",
    "data = pd.get_dummies(data, drop_first=True)\n",
    "\n",
    "print(data.head())\n",
    "print(data.dtypes)"
   ]
  }
 ],
 "metadata": {
  "kernelspec": {
   "display_name": "base",
   "language": "python",
   "name": "python3"
  },
  "language_info": {
   "codemirror_mode": {
    "name": "ipython",
    "version": 3
   },
   "file_extension": ".py",
   "mimetype": "text/x-python",
   "name": "python",
   "nbconvert_exporter": "python",
   "pygments_lexer": "ipython3",
   "version": "3.12.3"
  }
 },
 "nbformat": 4,
 "nbformat_minor": 5
}
