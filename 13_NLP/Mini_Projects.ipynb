{
 "cells": [
  {
   "cell_type": "markdown",
   "id": "ef8f4bcb",
   "metadata": {},
   "source": [
    "##### Use Case: Rating Prediction Create a model that will predict the rating based on the feedback of the customer. \n",
    "* Feature: Text Label: Stars \n",
    "* Dataset: yelp.csv"
   ]
  },
  {
   "cell_type": "code",
   "execution_count": 2,
   "id": "3e2f99a1",
   "metadata": {},
   "outputs": [
    {
     "name": "stdout",
     "output_type": "stream",
     "text": [
      "Accuracy: 0.4685\n",
      "              precision    recall  f1-score   support\n",
      "\n",
      "           1       0.82      0.06      0.12       142\n",
      "           2       1.00      0.01      0.01       166\n",
      "           3       0.44      0.01      0.03       289\n",
      "           4       0.42      0.76      0.54       739\n",
      "           5       0.56      0.54      0.55       664\n",
      "\n",
      "    accuracy                           0.47      2000\n",
      "   macro avg       0.65      0.28      0.25      2000\n",
      "weighted avg       0.55      0.47      0.40      2000\n",
      "\n"
     ]
    }
   ],
   "source": [
    "import pandas as pd\n",
    "import re\n",
    "from sklearn.model_selection import train_test_split\n",
    "from sklearn.feature_extraction.text import TfidfVectorizer\n",
    "from sklearn.naive_bayes import MultinomialNB\n",
    "from sklearn.metrics import accuracy_score, classification_report\n",
    "from nltk.corpus import stopwords\n",
    "from nltk.stem import PorterStemmer\n",
    "from nltk.tokenize import word_tokenize\n",
    "import nltk\n",
    "\n",
    "df = pd.read_csv(\"yelp.csv\")\n",
    "df = df[[\"text\", \"stars\"]]\n",
    "df.columns = [\"feedback\", \"rating\"]\n",
    "\n",
    "stop_words = set(stopwords.words(\"english\"))\n",
    "ps = PorterStemmer()\n",
    "\n",
    "def preprocess_text(text):\n",
    "    text = str(text).lower()\n",
    "    text = re.sub(r\"[^a-z]\", \" \", text)\n",
    "    tokens = word_tokenize(text)\n",
    "    tokens = [ps.stem(word) for word in tokens if word not in stop_words]\n",
    "    return \" \".join(tokens)\n",
    "\n",
    "df[\"clean_feedback\"] = df[\"feedback\"].apply(preprocess_text)\n",
    "\n",
    "X = TfidfVectorizer(max_features=5000).fit_transform(df[\"clean_feedback\"])\n",
    "y = df[\"rating\"]\n",
    "\n",
    "X_train, X_test, y_train, y_test = train_test_split(X, y, test_size=0.2, random_state=42)\n",
    "\n",
    "model = MultinomialNB()\n",
    "model.fit(X_train, y_train)\n",
    "y_pred = model.predict(X_test)\n",
    "\n",
    "print(\"Accuracy:\", accuracy_score(y_test, y_pred))\n",
    "print(classification_report(y_test, y_pred))\n"
   ]
  }
 ],
 "metadata": {
  "kernelspec": {
   "display_name": "base",
   "language": "python",
   "name": "python3"
  },
  "language_info": {
   "codemirror_mode": {
    "name": "ipython",
    "version": 3
   },
   "file_extension": ".py",
   "mimetype": "text/x-python",
   "name": "python",
   "nbconvert_exporter": "python",
   "pygments_lexer": "ipython3",
   "version": "3.12.3"
  }
 },
 "nbformat": 4,
 "nbformat_minor": 5
}
