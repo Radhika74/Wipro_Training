{
 "cells": [
  {
   "cell_type": "markdown",
   "id": "8017724a",
   "metadata": {},
   "source": [
    "Q1. Predict the price of the car based on its features. Dataset: cars.csv"
   ]
  },
  {
   "cell_type": "code",
   "execution_count": 4,
   "id": "9621bf51",
   "metadata": {},
   "outputs": [
    {
     "name": "stdout",
     "output_type": "stream",
     "text": [
      "      0  1      2      3       4     5   6  7                          8\n",
      "0  18.0  8  307.0  130.0  3504.0  12.0  70  1  chevrolet chevelle malibu\n",
      "1  15.0  8  350.0  165.0  3693.0  11.5  70  1          buick skylark 320\n",
      "2  18.0  8  318.0  150.0  3436.0  11.0  70  1         plymouth satellite\n",
      "3  16.0  8  304.0  150.0  3433.0  12.0  70  1              amc rebel sst\n",
      "4  17.0  8  302.0  140.0  3449.0  10.5  70  1                ford torino\n",
      "(398, 9)\n"
     ]
    }
   ],
   "source": [
    "import pandas as pd\n",
    "\n",
    "data = pd.read_csv(\"cars.csv\", sep='\\\\s+', header=None)\n",
    "print(data.head())\n",
    "print(data.shape)"
   ]
  },
  {
   "cell_type": "code",
   "execution_count": 5,
   "id": "e488806a",
   "metadata": {},
   "outputs": [
    {
     "name": "stdout",
     "output_type": "stream",
     "text": [
      "MSE: 10.75206039274752\n",
      "R2 Score: 0.8000228461688519\n"
     ]
    }
   ],
   "source": [
    "import pandas as pd\n",
    "from sklearn.model_selection import train_test_split\n",
    "from sklearn.linear_model import LinearRegression\n",
    "from sklearn.metrics import mean_squared_error, r2_score\n",
    "\n",
    "data = pd.read_csv(\"cars.csv\", sep='\\\\s+', header=None)\n",
    "data.columns = [\"mpg\",\"cylinders\",\"displacement\",\"horsepower\",\"weight\",\"acceleration\",\"model_year\",\"origin\",\"car_name\"]\n",
    "\n",
    "X = data.drop([\"mpg\",\"car_name\"], axis=1)\n",
    "y = data[\"mpg\"]\n",
    "\n",
    "X = pd.get_dummies(X, drop_first=True)\n",
    "\n",
    "X_train, X_test, y_train, y_test = train_test_split(X, y, test_size=0.2, random_state=42)\n",
    "\n",
    "model = LinearRegression()\n",
    "model.fit(X_train, y_train)\n",
    "y_pred = model.predict(X_test)\n",
    "\n",
    "print(\"MSE:\", mean_squared_error(y_test, y_pred))\n",
    "print(\"R2 Score:\", r2_score(y_test, y_pred))"
   ]
  },
  {
   "cell_type": "markdown",
   "id": "b886c5f8",
   "metadata": {},
   "source": [
    "Q2. Create a model that can predict the profit based on its features. Dataset: 50_startups.csv"
   ]
  },
  {
   "cell_type": "code",
   "execution_count": 6,
   "id": "f74892ab",
   "metadata": {},
   "outputs": [
    {
     "name": "stdout",
     "output_type": "stream",
     "text": [
      "MSE: 82010363.04430106\n",
      "R2 Score: 0.8987266414328636\n"
     ]
    }
   ],
   "source": [
    "import pandas as pd\n",
    "from sklearn.model_selection import train_test_split\n",
    "from sklearn.linear_model import LinearRegression\n",
    "from sklearn.metrics import mean_squared_error, r2_score\n",
    "\n",
    "data = pd.read_csv(\"50_startups.csv\")\n",
    "\n",
    "X = data.drop(\"Profit\", axis=1)\n",
    "y = data[\"Profit\"]\n",
    "\n",
    "X = pd.get_dummies(X, drop_first=True)\n",
    "\n",
    "X_train, X_test, y_train, y_test = train_test_split(X, y, test_size=0.2, random_state=42)\n",
    "\n",
    "model = LinearRegression()\n",
    "model.fit(X_train, y_train)\n",
    "\n",
    "y_pred = model.predict(X_test)\n",
    "\n",
    "print(\"MSE:\", mean_squared_error(y_test, y_pred))\n",
    "print(\"R2 Score:\", r2_score(y_test, y_pred))\n"
   ]
  },
  {
   "cell_type": "markdown",
   "id": "ded69ddb",
   "metadata": {},
   "source": [
    "Q3. Create a model that can predict the profit based on its features. Dataset: Salary_Data"
   ]
  },
  {
   "cell_type": "code",
   "execution_count": 7,
   "id": "9478fca7",
   "metadata": {},
   "outputs": [
    {
     "name": "stdout",
     "output_type": "stream",
     "text": [
      "MSE: 49830096.85590839\n",
      "R2 Score: 0.9024461774180497\n"
     ]
    }
   ],
   "source": [
    "import pandas as pd\n",
    "from sklearn.model_selection import train_test_split\n",
    "from sklearn.linear_model import LinearRegression\n",
    "from sklearn.metrics import mean_squared_error, r2_score\n",
    "\n",
    "data = pd.read_csv(\"Salary_Data.csv\")\n",
    "\n",
    "X = data[[\"YearsExperience\"]]\n",
    "y = data[\"Salary\"]\n",
    "\n",
    "X_train, X_test, y_train, y_test = train_test_split(X, y, test_size=0.2, random_state=42)\n",
    "\n",
    "model = LinearRegression()\n",
    "model.fit(X_train, y_train)\n",
    "\n",
    "y_pred = model.predict(X_test)\n",
    "\n",
    "print(\"MSE:\", mean_squared_error(y_test, y_pred))\n",
    "print(\"R2 Score:\", r2_score(y_test, y_pred))\n"
   ]
  }
 ],
 "metadata": {
  "kernelspec": {
   "display_name": "base",
   "language": "python",
   "name": "python3"
  },
  "language_info": {
   "codemirror_mode": {
    "name": "ipython",
    "version": 3
   },
   "file_extension": ".py",
   "mimetype": "text/x-python",
   "name": "python",
   "nbconvert_exporter": "python",
   "pygments_lexer": "ipython3",
   "version": "3.12.3"
  }
 },
 "nbformat": 4,
 "nbformat_minor": 5
}
